{
 "cells": [
  {
   "cell_type": "markdown",
   "id": "871b2f21-ef51-4af6-8c55-3b547980699e",
   "metadata": {
    "id": "871b2f21-ef51-4af6-8c55-3b547980699e"
   },
   "source": [
    "# Data Cleaning and Preprocessing Notebook"
   ]
  },
  {
   "cell_type": "markdown",
   "id": "90c07cca-88e7-4e75-a746-1988f883d120",
   "metadata": {
    "id": "90c07cca-88e7-4e75-a746-1988f883d120"
   },
   "source": [
    "### Business Objective\n",
    "The primary goal is to develop an automated system that effectively summarizes multiple product reviews into concise, informative summaries that capture key aspects of customer feedback (such as overall sentiment score and key product features), enabling both potential customers and business stakeholders to make informed decisions quickly.\n",
    "\n",
    "**Key Objectives:**\n",
    "\n",
    "1. `Review Aggregation`: Synthesize multiple reviews per product into a comprehensive yet concise summary that captures the essential feedback and experiences.\n",
    "2. `Feature Extraction`: Identify and highlight key product features, attributes, and characteristics that customers frequently mention across reviews.\n",
    "3. `Sentiment Analysis`: Incorporate customer sentiment into summaries to provide balanced perspectives of positive and negative feedback.\n",
    "4. `Time Efficiency`: Reduce the time needed for customers and stakeholders to understand product feedback by providing digestible summaries instead of reading numerous individual reviews."
   ]
  },
  {
   "cell_type": "markdown",
   "id": "e94af0e6-7fb6-4116-a2a7-0d2bd482d909",
   "metadata": {
    "id": "e94af0e6-7fb6-4116-a2a7-0d2bd482d909"
   },
   "source": [
    "### 1. Dataset Description:\n",
    "\n",
    "#### Overview\n",
    "The dataset comprises over 568,000 consumer reviews sourced from various products on Amazon.com.\n",
    "\n",
    "#### Content Structure\n",
    "The dataset is organized into 10 columns, each providing valuable information about the reviews.\n",
    "\n",
    "#### Attributes\n",
    "The dataset includes the following fields:\n",
    "\n",
    "1. `Id`: A unique identifier for each review.\n",
    "2. `ProductId`: The unique identifier for the product being reviewed.\n",
    "3. `UserId`: The unique identifier for the user who submitted the review.\n",
    "4. `ProfileName`: The name or alias of the user, providing a layer of anonymity.\n",
    "5. `HelpfulnessNumerator`: The number of users who found the review helpful.\n",
    "6. `HelpfulnessDenominator`: The total number of users who rated the review as helpful or unhelpful.\n",
    "7. `Score`: The rating given by the user, typically on a scale from 1 to 5.\n",
    "8. `Time`: The timestamp indicating when the review was submitted.\n",
    "9. `Summary`: A brief summary of the review content.\n",
    "10. `Text`: The full text of the review, providing detailed insights into the user's experience and opinions.\n"
   ]
  },
  {
   "cell_type": "markdown",
   "id": "c5e1669b-d52c-44e1-86d9-810818404062",
   "metadata": {
    "id": "c5e1669b-d52c-44e1-86d9-810818404062"
   },
   "source": [
    "|                  |                                                     |\n",
    "|--------------------------|---------------------------------------------------------------|\n",
    "| **Estimated size**       | 568,454 rows and 10 columns (approximately 300 MB)       |\n",
    "| **Format**               | Comma Separated Values (.csv)                                 |\n",
    "| **Location & Access**    | Amazon Product Reviews (https://www.kaggle.com/datasets/arhamrumi/amazon-product-reviews/data) |"
   ]
  },
  {
   "cell_type": "markdown",
   "id": "35770608-23ce-40a3-81f4-bb78a75ebb8a",
   "metadata": {
    "id": "90c07cca-88e7-4e75-a746-1988f883d120"
   },
   "source": [
    "### 2. Setup and Data Loading:\n",
    "#### Import Libraries\n",
    "First, we are going to import and install some helper libraries that we will need to process the data."
   ]
  },
  {
   "cell_type": "code",
   "execution_count": 6,
   "id": "576a7db4-8497-47dd-888f-9d992645d49b",
   "metadata": {
    "executionInfo": {
     "elapsed": 2642,
     "status": "ok",
     "timestamp": 1723174570723,
     "user": {
      "displayName": "Kevin Steidler",
      "userId": "01990731876004348216"
     },
     "user_tz": 240
    },
    "id": "576a7db4-8497-47dd-888f-9d992645d49b"
   },
   "outputs": [
    {
     "name": "stderr",
     "output_type": "stream",
     "text": [
      "[nltk_data] Downloading package punkt to\n",
      "[nltk_data]     C:\\Users\\ejazl\\AppData\\Roaming\\nltk_data...\n",
      "[nltk_data]   Package punkt is already up-to-date!\n",
      "[nltk_data] Downloading package stopwords to\n",
      "[nltk_data]     C:\\Users\\ejazl\\AppData\\Roaming\\nltk_data...\n",
      "[nltk_data]   Package stopwords is already up-to-date!\n",
      "[nltk_data] Downloading package wordnet to\n",
      "[nltk_data]     C:\\Users\\ejazl\\AppData\\Roaming\\nltk_data...\n",
      "[nltk_data]   Package wordnet is already up-to-date!\n",
      "[nltk_data] Downloading package omw-1.4 to\n",
      "[nltk_data]     C:\\Users\\ejazl\\AppData\\Roaming\\nltk_data...\n",
      "[nltk_data]   Package omw-1.4 is already up-to-date!\n"
     ]
    },
    {
     "name": "stdout",
     "output_type": "stream",
     "text": [
      "Requirement already satisfied: contractions in c:\\users\\ejazl\\anaconda3\\lib\\site-packages (0.1.73)\n",
      "Requirement already satisfied: textsearch>=0.0.21 in c:\\users\\ejazl\\anaconda3\\lib\\site-packages (from contractions) (0.0.24)\n",
      "Requirement already satisfied: anyascii in c:\\users\\ejazl\\anaconda3\\lib\\site-packages (from textsearch>=0.0.21->contractions) (0.3.2)\n",
      "Requirement already satisfied: pyahocorasick in c:\\users\\ejazl\\anaconda3\\lib\\site-packages (from textsearch>=0.0.21->contractions) (2.1.0)\n"
     ]
    }
   ],
   "source": [
    "import re\n",
    "import pandas as pd\n",
    "import numpy as np\n",
    "import matplotlib.pyplot as plt\n",
    "import seaborn as sns\n",
    "\n",
    "from sklearn.preprocessing import LabelEncoder\n",
    "\n",
    "import nltk\n",
    "from nltk.tokenize import word_tokenize\n",
    "from nltk.corpus import stopwords\n",
    "from nltk.stem import WordNetLemmatizer\n",
    "\n",
    "nltk.download('punkt')\n",
    "nltk.download('stopwords')\n",
    "nltk.download('wordnet')\n",
    "nltk.download('omw-1.4')\n",
    "\n",
    "!pip install contractions\n",
    "import contractions\n",
    "\n",
    "import warnings\n",
    "\n",
    "# Suppress the specific FutureWarning\n",
    "warnings.filterwarnings(\"ignore\", category=FutureWarning)"
   ]
  },
  {
   "cell_type": "markdown",
   "id": "5f6677a3-1913-4737-a271-1f7bd748b8af",
   "metadata": {
    "id": "5f6677a3-1913-4737-a271-1f7bd748b8af"
   },
   "source": [
    "#### Load Dataset\n",
    "Next, we are going to load the dataset and examine its structure such as shape, column names, data types and so on."
   ]
  },
  {
   "cell_type": "code",
   "execution_count": 8,
   "id": "d6e6a46c-6efb-45f2-b4d2-0927fe0d3f47",
   "metadata": {},
   "outputs": [
    {
     "name": "stdout",
     "output_type": "stream",
     "text": [
      "Dataset shape: (568454, 10)\n",
      "\n",
      "First few rows of the dataset:\n"
     ]
    },
    {
     "data": {
      "text/html": [
       "<div>\n",
       "<style scoped>\n",
       "    .dataframe tbody tr th:only-of-type {\n",
       "        vertical-align: middle;\n",
       "    }\n",
       "\n",
       "    .dataframe tbody tr th {\n",
       "        vertical-align: top;\n",
       "    }\n",
       "\n",
       "    .dataframe thead th {\n",
       "        text-align: right;\n",
       "    }\n",
       "</style>\n",
       "<table border=\"1\" class=\"dataframe\">\n",
       "  <thead>\n",
       "    <tr style=\"text-align: right;\">\n",
       "      <th></th>\n",
       "      <th>Id</th>\n",
       "      <th>ProductId</th>\n",
       "      <th>UserId</th>\n",
       "      <th>ProfileName</th>\n",
       "      <th>HelpfulnessNumerator</th>\n",
       "      <th>HelpfulnessDenominator</th>\n",
       "      <th>Score</th>\n",
       "      <th>Time</th>\n",
       "      <th>Summary</th>\n",
       "      <th>Text</th>\n",
       "    </tr>\n",
       "  </thead>\n",
       "  <tbody>\n",
       "    <tr>\n",
       "      <th>0</th>\n",
       "      <td>1</td>\n",
       "      <td>B001E4KFG0</td>\n",
       "      <td>A3SGXH7AUHU8GW</td>\n",
       "      <td>delmartian</td>\n",
       "      <td>1</td>\n",
       "      <td>1</td>\n",
       "      <td>5</td>\n",
       "      <td>1303862400</td>\n",
       "      <td>Good Quality Dog Food</td>\n",
       "      <td>I have bought several of the Vitality canned d...</td>\n",
       "    </tr>\n",
       "    <tr>\n",
       "      <th>1</th>\n",
       "      <td>2</td>\n",
       "      <td>B00813GRG4</td>\n",
       "      <td>A1D87F6ZCVE5NK</td>\n",
       "      <td>dll pa</td>\n",
       "      <td>0</td>\n",
       "      <td>0</td>\n",
       "      <td>1</td>\n",
       "      <td>1346976000</td>\n",
       "      <td>Not as Advertised</td>\n",
       "      <td>Product arrived labeled as Jumbo Salted Peanut...</td>\n",
       "    </tr>\n",
       "    <tr>\n",
       "      <th>2</th>\n",
       "      <td>3</td>\n",
       "      <td>B000LQOCH0</td>\n",
       "      <td>ABXLMWJIXXAIN</td>\n",
       "      <td>Natalia Corres \"Natalia Corres\"</td>\n",
       "      <td>1</td>\n",
       "      <td>1</td>\n",
       "      <td>4</td>\n",
       "      <td>1219017600</td>\n",
       "      <td>\"Delight\" says it all</td>\n",
       "      <td>This is a confection that has been around a fe...</td>\n",
       "    </tr>\n",
       "    <tr>\n",
       "      <th>3</th>\n",
       "      <td>4</td>\n",
       "      <td>B000UA0QIQ</td>\n",
       "      <td>A395BORC6FGVXV</td>\n",
       "      <td>Karl</td>\n",
       "      <td>3</td>\n",
       "      <td>3</td>\n",
       "      <td>2</td>\n",
       "      <td>1307923200</td>\n",
       "      <td>Cough Medicine</td>\n",
       "      <td>If you are looking for the secret ingredient i...</td>\n",
       "    </tr>\n",
       "    <tr>\n",
       "      <th>4</th>\n",
       "      <td>5</td>\n",
       "      <td>B006K2ZZ7K</td>\n",
       "      <td>A1UQRSCLF8GW1T</td>\n",
       "      <td>Michael D. Bigham \"M. Wassir\"</td>\n",
       "      <td>0</td>\n",
       "      <td>0</td>\n",
       "      <td>5</td>\n",
       "      <td>1350777600</td>\n",
       "      <td>Great taffy</td>\n",
       "      <td>Great taffy at a great price.  There was a wid...</td>\n",
       "    </tr>\n",
       "  </tbody>\n",
       "</table>\n",
       "</div>"
      ],
      "text/plain": [
       "   Id   ProductId          UserId                      ProfileName  \\\n",
       "0   1  B001E4KFG0  A3SGXH7AUHU8GW                       delmartian   \n",
       "1   2  B00813GRG4  A1D87F6ZCVE5NK                           dll pa   \n",
       "2   3  B000LQOCH0   ABXLMWJIXXAIN  Natalia Corres \"Natalia Corres\"   \n",
       "3   4  B000UA0QIQ  A395BORC6FGVXV                             Karl   \n",
       "4   5  B006K2ZZ7K  A1UQRSCLF8GW1T    Michael D. Bigham \"M. Wassir\"   \n",
       "\n",
       "   HelpfulnessNumerator  HelpfulnessDenominator  Score        Time  \\\n",
       "0                     1                       1      5  1303862400   \n",
       "1                     0                       0      1  1346976000   \n",
       "2                     1                       1      4  1219017600   \n",
       "3                     3                       3      2  1307923200   \n",
       "4                     0                       0      5  1350777600   \n",
       "\n",
       "                 Summary                                               Text  \n",
       "0  Good Quality Dog Food  I have bought several of the Vitality canned d...  \n",
       "1      Not as Advertised  Product arrived labeled as Jumbo Salted Peanut...  \n",
       "2  \"Delight\" says it all  This is a confection that has been around a fe...  \n",
       "3         Cough Medicine  If you are looking for the secret ingredient i...  \n",
       "4            Great taffy  Great taffy at a great price.  There was a wid...  "
      ]
     },
     "execution_count": 8,
     "metadata": {},
     "output_type": "execute_result"
    }
   ],
   "source": [
    "# Load the data and display some basic information\n",
    "product_reviews = pd.read_csv('Reviews.csv')\n",
    "print(f\"Dataset shape: {product_reviews.shape}\")\n",
    "print(\"\\nFirst few rows of the dataset:\")\n",
    "product_reviews.head()"
   ]
  },
  {
   "cell_type": "code",
   "execution_count": 9,
   "id": "d2cf4110-79c0-4439-bcf0-bb63411f1810",
   "metadata": {},
   "outputs": [
    {
     "name": "stdout",
     "output_type": "stream",
     "text": [
      "<class 'pandas.core.frame.DataFrame'>\n",
      "RangeIndex: 568454 entries, 0 to 568453\n",
      "Data columns (total 10 columns):\n",
      " #   Column                  Non-Null Count   Dtype \n",
      "---  ------                  --------------   ----- \n",
      " 0   Id                      568454 non-null  int64 \n",
      " 1   ProductId               568454 non-null  object\n",
      " 2   UserId                  568454 non-null  object\n",
      " 3   ProfileName             568428 non-null  object\n",
      " 4   HelpfulnessNumerator    568454 non-null  int64 \n",
      " 5   HelpfulnessDenominator  568454 non-null  int64 \n",
      " 6   Score                   568454 non-null  int64 \n",
      " 7   Time                    568454 non-null  int64 \n",
      " 8   Summary                 568427 non-null  object\n",
      " 9   Text                    568454 non-null  object\n",
      "dtypes: int64(5), object(5)\n",
      "memory usage: 43.4+ MB\n"
     ]
    }
   ],
   "source": [
    "# Additional data exploration\n",
    "product_reviews.info()"
   ]
  },
  {
   "cell_type": "markdown",
   "id": "390c58d9-2ade-4f53-9482-8ff0398b15f6",
   "metadata": {},
   "source": [
    "### 3. Data Cleaning and Preprocessing:\n",
    "Next, we will streamline our dataset by focusing only on the columns that are essential for our analysis and perform necessary cleaning and preprocessing."
   ]
  },
  {
   "cell_type": "code",
   "execution_count": 11,
   "id": "93f7d574-7a80-4080-8279-68afeb9449a3",
   "metadata": {},
   "outputs": [],
   "source": [
    "# Select relevant columns\n",
    "relevant_columns = ['ProductId', 'Text', 'Score', 'HelpfulnessNumerator']\n",
    "data = product_reviews[relevant_columns].copy()\n",
    "\n",
    "# Rename columns for clarity\n",
    "data.columns = ['product_id', 'reviews', 'rating', 'helpful_votes']"
   ]
  },
  {
   "cell_type": "code",
   "execution_count": 12,
   "id": "0bf32895-4fc1-4301-bf0d-01535f0f1dc9",
   "metadata": {},
   "outputs": [
    {
     "name": "stdout",
     "output_type": "stream",
     "text": [
      "(568454, 4)\n",
      "   product_id                                            reviews  rating  \\\n",
      "0  B001E4KFG0  I have bought several of the Vitality canned d...       5   \n",
      "1  B00813GRG4  Product arrived labeled as Jumbo Salted Peanut...       1   \n",
      "2  B000LQOCH0  This is a confection that has been around a fe...       4   \n",
      "3  B000UA0QIQ  If you are looking for the secret ingredient i...       2   \n",
      "4  B006K2ZZ7K  Great taffy at a great price.  There was a wid...       5   \n",
      "\n",
      "   helpful_votes  \n",
      "0              1  \n",
      "1              0  \n",
      "2              1  \n",
      "3              3  \n",
      "4              0  \n"
     ]
    }
   ],
   "source": [
    "# Check the new shape of the dataset\n",
    "print(data.shape)\n",
    "\n",
    "# Display the first few rows of the cleaned dataset\n",
    "print(data.head())"
   ]
  },
  {
   "cell_type": "markdown",
   "id": "2c8db1d7-be9f-47d0-819d-93d29ae546a4",
   "metadata": {},
   "source": [
    "This approach gives us a more focused dataset for our summarization task. The 'rating' can be used to incorporate sentiment into our summaries or to evaluate how well our summaries capture the overall sentiment. The 'product_id' allows us to group reviews by product and 'review_text' is our main content for summarization."
   ]
  },
  {
   "cell_type": "markdown",
   "id": "392bf282-400e-4b8f-9120-7e805d9a594d",
   "metadata": {
    "id": "392bf282-400e-4b8f-9120-7e805d9a594d"
   },
   "source": [
    "#### Check for Duplicates and Identify Missing Values\n",
    "Next, we will check for duplicate rows to ensure that each row is unique and avoid any redundancy in the dataset."
   ]
  },
  {
   "cell_type": "code",
   "execution_count": 15,
   "id": "a9433a8a-6de0-4eaa-94e9-ea91dab267ac",
   "metadata": {
    "colab": {
     "base_uri": "https://localhost:8080/"
    },
    "executionInfo": {
     "elapsed": 9311,
     "status": "ok",
     "timestamp": 1723174636474,
     "user": {
      "displayName": "Kevin Steidler",
      "userId": "01990731876004348216"
     },
     "user_tz": 240
    },
    "id": "a9433a8a-6de0-4eaa-94e9-ea91dab267ac",
    "outputId": "295e9669-f455-45e6-ea99-9411108bb89a"
   },
   "outputs": [
    {
     "name": "stdout",
     "output_type": "stream",
     "text": [
      "Number of duplicate records: 565\n",
      "Total number of unique records after removing duplicates: 567889\n"
     ]
    }
   ],
   "source": [
    "# Check for duplicate records\n",
    "print(f\"Number of duplicate records: {data.duplicated().sum()}\")\n",
    "\n",
    "# Remove duplicate records\n",
    "data = data.drop_duplicates()\n",
    "print(f'Total number of unique records after removing duplicates: {data.shape[0]}')"
   ]
  },
  {
   "cell_type": "code",
   "execution_count": 16,
   "id": "c7a82f75-11fd-4d96-a8e5-e3092098b3d7",
   "metadata": {
    "colab": {
     "base_uri": "https://localhost:8080/",
     "height": 1000
    },
    "executionInfo": {
     "elapsed": 3217,
     "status": "ok",
     "timestamp": 1723174639661,
     "user": {
      "displayName": "Kevin Steidler",
      "userId": "01990731876004348216"
     },
     "user_tz": 240
    },
    "id": "c7a82f75-11fd-4d96-a8e5-e3092098b3d7",
    "outputId": "0038d476-2950-4ba2-fff6-1e90634d0122"
   },
   "outputs": [
    {
     "data": {
      "text/plain": [
       "product_id       0\n",
       "reviews          0\n",
       "rating           0\n",
       "helpful_votes    0\n",
       "dtype: int64"
      ]
     },
     "execution_count": 16,
     "metadata": {},
     "output_type": "execute_result"
    }
   ],
   "source": [
    "# Check for missing values\n",
    "data.isnull().sum()"
   ]
  },
  {
   "cell_type": "markdown",
   "id": "35043351-f1f7-4b17-9961-f2543d6cb576",
   "metadata": {},
   "source": [
    "##### Observations:\n",
    "- Initial dataset: 568,454 reviews\n",
    "- After deduplication: 567,889 reviews (565 duplicates removed)\n",
    "- No missing values in relevant columns"
   ]
  },
  {
   "cell_type": "markdown",
   "id": "e785c5a8-9a19-4bf9-aa58-c70d8cadf93a",
   "metadata": {},
   "source": [
    "Next, we will group the reviews by product, as it will allow us to summarize multiple reviews for each product and then apply further preprocessing steps later."
   ]
  },
  {
   "cell_type": "code",
   "execution_count": 19,
   "id": "78b7d500-8509-43e1-b483-8bd848a4a231",
   "metadata": {},
   "outputs": [],
   "source": [
    "def count_sentiments(reviews):\n",
    "    # Convert reviews to sentiment categories based on rating\n",
    "    sentiments = [\n",
    "        'positive' if rating >= 4 \n",
    "        else 'negative' if rating <= 2 \n",
    "        else 'neutral' \n",
    "        for rating in reviews\n",
    "    ]\n",
    "    \n",
    "    # Count sentiments\n",
    "    sentiment_counts = {\n",
    "        'positive': sentiments.count('positive'),\n",
    "        'neutral': sentiments.count('neutral'),\n",
    "        'negative': sentiments.count('negative')\n",
    "    }\n",
    "    \n",
    "    return sentiment_counts"
   ]
  },
  {
   "cell_type": "code",
   "execution_count": 20,
   "id": "21f449a6-505c-4fcf-bc40-97017e8ec2c4",
   "metadata": {},
   "outputs": [],
   "source": [
    "# Group by product_id\n",
    "grouped_reviews = data.groupby('product_id').agg({\n",
    "    'reviews': list,         # Keep all reviews in a list\n",
    "    'rating': ['count', 'mean', count_sentiments],  # Get review count, average rating and sentiment distribution\n",
    "    'helpful_votes': 'sum'\n",
    "}).reset_index()\n",
    "\n",
    "# Flatten column names\n",
    "grouped_reviews.columns = ['product_id', 'reviews', 'review_count', 'avg_rating', 'sentiment_details', 'total_helpful_votes']"
   ]
  },
  {
   "cell_type": "markdown",
   "id": "fd1f8461-403f-49c6-84dc-f0e928b44dd5",
   "metadata": {},
   "source": [
    "### 4. EDA (Exploratory Data Analysis):"
   ]
  },
  {
   "cell_type": "markdown",
   "id": "41b8791d-cf25-4ed4-ab6c-5a3fe32430ec",
   "metadata": {},
   "source": [
    "#### Basic statistics"
   ]
  },
  {
   "cell_type": "code",
   "execution_count": 23,
   "id": "70dd2a2b-8bfe-427b-ad51-2b14b1629b0a",
   "metadata": {},
   "outputs": [
    {
     "name": "stdout",
     "output_type": "stream",
     "text": [
      "Basic Statistics:\n",
      "       review_count    avg_rating  total_helpful_votes\n",
      "count  74258.000000  74258.000000         74258.000000\n",
      "mean       7.647513      4.166221            13.342428\n",
      "std       26.410732      1.070142            64.499431\n",
      "min        1.000000      1.000000             0.000000\n",
      "25%        1.000000      3.785138             0.000000\n",
      "50%        2.000000      4.500000             1.000000\n",
      "75%        5.000000      5.000000             6.000000\n",
      "max      911.000000      5.000000          3989.000000\n"
     ]
    }
   ],
   "source": [
    "print(\"Basic Statistics:\")\n",
    "print(grouped_reviews.describe())"
   ]
  },
  {
   "cell_type": "markdown",
   "id": "d8349ea4-ad76-4344-a857-3c5ed104b3eb",
   "metadata": {},
   "source": [
    "##### Observations:\n",
    "1. Review Count Statistics:\n",
    "    - Reviews per product range from 1 to 911\n",
    "    - Average reviews per product: 7.64\n",
    "    - Median reviews per product: 2.0\n",
    "    - High variance in review counts (std: 26.37)\n",
    "    - Maximum reviews for a single product: 911\n",
    "    - 75% of products have 5 or fewer reviews\n",
    "  \n",
    "2. Average Rating Statistics:\n",
    "    - Mean rating: 4.17 out of 5\n",
    "    - Median rating: 4.5 out of 5\n",
    "    - The high mean and median suggest a strong positive bias in ratings"
   ]
  },
  {
   "cell_type": "markdown",
   "id": "cc57ca60-dac0-43c2-8c46-b2e8c37eda6a",
   "metadata": {},
   "source": [
    "#### Review Distribution Plot"
   ]
  },
  {
   "cell_type": "code",
   "execution_count": 26,
   "id": "2b195a86-5a98-475a-b7b7-572709a6313c",
   "metadata": {},
   "outputs": [
    {
     "data": {
      "image/png": "[encoded data removed]",
      "text/plain": [
       "<Figure size 1000x600 with 1 Axes>"
      ]
     },
     "metadata": {},
     "output_type": "display_data"
    }
   ],
   "source": [
    "# Visualize review distribution\n",
    "plt.figure(figsize=(10, 6))\n",
    "sns.histplot(data=grouped_reviews, x='review_count', bins=50)\n",
    "plt.title('Distribution of Reviews per Product')\n",
    "plt.xlabel('Number of Reviews')\n",
    "plt.ylabel('Count')\n",
    "plt.show()"
   ]
  },
  {
   "cell_type": "markdown",
   "id": "c7933844-8343-49af-8fdd-73af5c1f180d",
   "metadata": {},
   "source": [
    "##### Observations:\n",
    "- Highly right-skewed distribution\n",
    "- Majority of products (>50%) have very few reviews (1-2)\n",
    "- Long tail extending to 911 reviews\n",
    "- Implications for summarization:\n",
    "  * Will probably need different strategies for products with few vs many reviews\n",
    "  * Or consider minimum review threshold for meaningful summarization and remove outliers"
   ]
  },
  {
   "cell_type": "markdown",
   "id": "9741267b-648d-4979-8a7f-106ec082a537",
   "metadata": {},
   "source": [
    "#### Rating Analysis"
   ]
  },
  {
   "cell_type": "code",
   "execution_count": 29,
   "id": "2971a46f-4603-4a73-8925-a06aab72df19",
   "metadata": {},
   "outputs": [
    {
     "data": {
      "text/plain": [
       "Text(0.5, 1.0, 'Distribution of Average Ratings')"
      ]
     },
     "execution_count": 29,
     "metadata": {},
     "output_type": "execute_result"
    },
    {
     "data": {
      "image/png": "[encoded data removed]",
      "text/plain": [
       "<Figure size 1200x500 with 1 Axes>"
      ]
     },
     "metadata": {},
     "output_type": "display_data"
    }
   ],
   "source": [
    "# Rating distribution\n",
    "plt.figure(figsize=(12, 5))\n",
    "plt.subplot(1, 2, 1)\n",
    "sns.histplot(data=grouped_reviews, x='avg_rating', bins=20)\n",
    "plt.title('Distribution of Average Ratings')"
   ]
  },
  {
   "cell_type": "markdown",
   "id": "4ec989a8-bfb6-4971-a3c3-60ce7db45286",
   "metadata": {},
   "source": [
    "##### Observations:\n",
    "- Strong positive skew in ratings\n",
    "- Most products have average ratings above 4.0\n",
    "- Very few products with average ratings below 2.0\n",
    "- Potential bias in the review quality"
   ]
  },
  {
   "cell_type": "markdown",
   "id": "476a4655-5df6-4400-a2c4-7fff9a64c13e",
   "metadata": {},
   "source": [
    "### 5. Handling Outliers:"
   ]
  },
  {
   "cell_type": "markdown",
   "id": "30e65bf4-a2ca-46ad-95fa-64794579e4bd",
   "metadata": {},
   "source": [
    "To address the highly skewed distribution of reviews per product, we will implement a two-sided filtering approach: removing products with too few reviews (less than 2) to ensure reliable summarization, and products with excessive reviews (above 95th percentile) to reduce bias from outliers. This balanced approach will help us maintain data quality while ensuring computational efficiency."
   ]
  },
  {
   "cell_type": "code",
   "execution_count": 33,
   "id": "c17e363a-c490-4c4a-a36d-3e55c2f75d7c",
   "metadata": {},
   "outputs": [
    {
     "name": "stdout",
     "output_type": "stream",
     "text": [
      "Grouped dataset size: 74258\n",
      "Filtered dataset size: 40289\n",
      "Removed products: 33969\n",
      "Retained 54.26% of the original data\n"
     ]
    }
   ],
   "source": [
    "# Define review count thresholds\n",
    "min_reviews = 2            # Minimum reviews for reliable summarization\n",
    "max_reviews = np.percentile(grouped_reviews['review_count'], 95)  # 95th percentile\n",
    "\n",
    "# Filter dataset\n",
    "filtered_reviews = grouped_reviews[\n",
    "    (grouped_reviews['review_count'] >= min_reviews) & \n",
    "    (grouped_reviews['review_count'] <= max_reviews)]\n",
    "\n",
    "# Print statistics\n",
    "print(\"Grouped dataset size:\", len(grouped_reviews))\n",
    "print(\"Filtered dataset size:\", len(filtered_reviews))\n",
    "print(\"Removed products:\", len(grouped_reviews) - len(filtered_reviews))\n",
    "\n",
    "# Calculate percentage of data retained\n",
    "retention_rate = (len(filtered_reviews) / len(grouped_reviews)) * 100\n",
    "print(f\"Retained {retention_rate:.2f}% of the original data\")"
   ]
  },
  {
   "cell_type": "code",
   "execution_count": 34,
   "id": "d350f01d-8f91-40d4-9d11-967e9b2b12f4",
   "metadata": {},
   "outputs": [
    {
     "data": {
      "image/png": "[encoded data removed]",
      "text/plain": [
       "<Figure size 1000x600 with 1 Axes>"
      ]
     },
     "metadata": {},
     "output_type": "display_data"
    }
   ],
   "source": [
    "plt.figure(figsize=(10, 6))\n",
    "sns.histplot(data=filtered_reviews, x='review_count', bins=20)\n",
    "plt.title('Distribution of Reviews per Product (After Treatment)')\n",
    "plt.xlabel('Number of Reviews')\n",
    "plt.ylabel('Count')\n",
    "plt.show()"
   ]
  },
  {
   "cell_type": "markdown",
   "id": "edaa51aa-532d-408c-9c75-92e976561c91",
   "metadata": {},
   "source": [
    "##### Observations:\n",
    "- The filtered distribution shows a more manageable range of review counts, eliminating extreme outliers while maintaining the natural pattern of the data\n",
    "- While still right-skewed, the distribution is less extreme than the original, making it more suitable for subsequent analysis tasks"
   ]
  },
  {
   "cell_type": "markdown",
   "id": "37d71b1c-9617-4d19-98bb-6be84866aae9",
   "metadata": {},
   "source": [
    "### 6. Additional Text Preprocessing\n",
    "Next, we will perform some additional preprocessing steps such as text preprocessing which will be immensely helpful for our NLP tasks where having a clean and clear text data will be essential for further analysis.\n",
    "\n",
    "We will define couple of functions that will help us clean the text by lowercasing text data, expanding the contractions, removing non-alphabetic characters, tokenizing text into individual words, removing stopwords and lemmatizing. This will help us achieve the desired task of text preprocessing and save the clean text data under new columns."
   ]
  },
  {
   "cell_type": "code",
   "execution_count": 37,
   "id": "44dd7cdc-e97b-488c-a317-072aaa85b114",
   "metadata": {},
   "outputs": [],
   "source": [
    "# Define a text preprocessing function \n",
    "def preprocess_text(text):\n",
    "    text = str(text).lower()                        # convert text to lowercase\n",
    "    text = contractions.fix(text)                   # expand contractions\n",
    "    text = re.sub(r'[^a-zA-Z\\s]', ' ', text)        # remove non-alphabetic characters\n",
    "    text = re.sub(r'\\S+@\\S+', '', text)             # remove email addresses\n",
    "    text = re.sub(r'\\d{3}-\\d{3}-\\d{4}', '', text)   # remove phone numbers\n",
    "    text = re.sub(r'\\bbr\\b', '', text)              # Remove 'br' tags\n",
    "    text = re.sub(r'http\\S+|www\\S+|https\\S+', '', text, flags=re.MULTILINE) # remove URLs\n",
    "    text = re.sub(r'\\s+', ' ', text).strip()        # remove extra whitespaces\n",
    "    \n",
    "    return text"
   ]
  },
  {
   "cell_type": "markdown",
   "id": "24737aef-f7ca-4504-8516-f258a4b13a9b",
   "metadata": {},
   "source": [
    "To reduce the tokenized words to their base or root form, we have couple of options: stemming or lemmatizing. We will proceed with lemmatizing as it is more sophisticated although it can be a little slower than stemming as it is utilizing more resources which ultimately helps us with the reductions being more accurate and meaningful."
   ]
  },
  {
   "cell_type": "code",
   "execution_count": 39,
   "id": "eb7bae94-72cb-4fc3-be93-b343510a0343",
   "metadata": {},
   "outputs": [],
   "source": [
    "# Tokenization, stopword removal, and lemmatization\n",
    "stop_words = set(stopwords.words('english'))    # remove stopwords\n",
    "lemmatizer = WordNetLemmatizer()                # lemmatize tokens\n",
    "\n",
    "def tokenize_lemmatize(text):\n",
    "    tokens = word_tokenize(text)                # tokenize the text\n",
    "    tokens = [lemmatizer.lemmatize(word) for word in tokens if word not in stop_words]\n",
    "\n",
    "    return ' '.join(tokens)      "
   ]
  },
  {
   "cell_type": "code",
   "execution_count": 40,
   "id": "54b2d097-dabd-4528-97ef-221398e15a45",
   "metadata": {},
   "outputs": [],
   "source": [
    "# Apply preprocessing to each review in the list\n",
    "filtered_reviews = filtered_reviews.copy()\n",
    "filtered_reviews['preprocessed_reviews'] = filtered_reviews['reviews'].apply(\n",
    "    lambda x: [preprocess_text(review) for review in x])"
   ]
  },
  {
   "cell_type": "code",
   "execution_count": 41,
   "id": "9088449b-ff2b-4d7c-a140-22c158654af6",
   "metadata": {},
   "outputs": [],
   "source": [
    "# Apply lemmatizer to each review in the list\n",
    "filtered_reviews['preprocessed_tokens'] = filtered_reviews['preprocessed_reviews'].apply(\n",
    "    lambda x: [tokenize_lemmatize(review) for review in x])"
   ]
  },
  {
   "cell_type": "code",
   "execution_count": 42,
   "id": "611c9875-f6f1-47ec-82d8-9bd98b4c9ba2",
   "metadata": {},
   "outputs": [],
   "source": [
    "# Add combined versions for both preprocessed reviews and tokens\n",
    "filtered_reviews['comb_preprocessed_reviews'] = filtered_reviews['preprocessed_reviews'].apply(' '.join)\n",
    "filtered_reviews['comb_preprocessed_tokens'] = filtered_reviews['preprocessed_tokens'].apply(' '.join)"
   ]
  },
  {
   "cell_type": "markdown",
   "id": "c9f8f58c-2beb-4b9f-b93a-0aef387c9bf8",
   "metadata": {},
   "source": [
    "Let's perform some validation checks."
   ]
  },
  {
   "cell_type": "code",
   "execution_count": 44,
   "id": "62f9d67d-b341-4b7c-9c95-13d3e2da1675",
   "metadata": {},
   "outputs": [
    {
     "name": "stdout",
     "output_type": "stream",
     "text": [
      "\n",
      "Validation Checks:\n",
      "Number of unique products in original data: 74258\n",
      "Number of products after preprocessing: 40289\n",
      "Number of products with empty preprocessed reviews: 0\n",
      "Average number of tokens per review: 46.63\n"
     ]
    }
   ],
   "source": [
    "# Add validation checks\n",
    "def validate_preprocessing(filtered_reviews):\n",
    "    # Check that we haven't lost any products\n",
    "    print(f\"\\nValidation Checks:\")\n",
    "    print(f\"Number of unique products in original data: {data['product_id'].nunique()}\")\n",
    "    print(f\"Number of products after preprocessing: {len(filtered_reviews)}\")\n",
    "    \n",
    "    # Check that preprocessed text is not empty\n",
    "    empty_preprocessed = filtered_reviews['preprocessed_reviews'].apply(lambda x: len(x) == 0).sum()\n",
    "    print(f\"Number of products with empty preprocessed reviews: {empty_preprocessed}\")\n",
    "    \n",
    "    # Check token lengths\n",
    "    avg_token_length = filtered_reviews['preprocessed_tokens'].apply(lambda x: len(x[0].split())).mean()\n",
    "    print(f\"Average number of tokens per review: {avg_token_length:.2f}\")\n",
    "\n",
    "# Run validation\n",
    "validate_preprocessing(filtered_reviews)"
   ]
  },
  {
   "cell_type": "markdown",
   "id": "2b553231-f79d-49e3-b787-6c908de91e8b",
   "metadata": {},
   "source": [
    "##### Observations:\n",
    "- Average token length per review: 46.63 words\n",
    "- All reviews successfully preprocessed (0 empty reviews)\n",
    "- All text preprocessing steps completed successfully"
   ]
  },
  {
   "cell_type": "markdown",
   "id": "8b25f874-d83b-44a1-8ed7-38a2a5296d15",
   "metadata": {},
   "source": [
    "### 7. Feature Engineering:"
   ]
  },
  {
   "cell_type": "code",
   "execution_count": 47,
   "id": "a08d6148-e7f8-4cea-9a29-d05a67b6f46e",
   "metadata": {},
   "outputs": [],
   "source": [
    "# Add sentiment categories based on average rating\n",
    "filtered_reviews['sentiment'] = filtered_reviews['avg_rating'].apply(\n",
    "    lambda x: 'positive' if x >= 4 \n",
    "    else ('negative' if x <= 2 else 'neutral'))"
   ]
  },
  {
   "cell_type": "markdown",
   "id": "3650d090-0e6c-446a-a8ca-7926d4311785",
   "metadata": {},
   "source": [
    "Next, we will encode the sentiment labels such as ‘Negative’, ‘Neutral’, ‘Positive’ into a numeric scale. This step is important as many machine learning algorithms only work with numeric values."
   ]
  },
  {
   "cell_type": "code",
   "execution_count": 49,
   "id": "02bd9730-1bc4-48e9-b776-94b780ca3082",
   "metadata": {},
   "outputs": [
    {
     "name": "stdout",
     "output_type": "stream",
     "text": [
      "Label Encoding:\n",
      "negative: 0\n",
      "neutral: 1\n",
      "positive: 2\n"
     ]
    }
   ],
   "source": [
    "# Encode the labels\n",
    "le = LabelEncoder()\n",
    "filtered_reviews['sentiment_encoded'] = le.fit_transform(filtered_reviews['sentiment'])\n",
    "\n",
    "# Print the label encoding mapping\n",
    "print(\"Label Encoding:\")\n",
    "for name, code in zip(le.classes_, le.transform(le.classes_)):\n",
    "    print(f\"{name}: {code}\")"
   ]
  },
  {
   "cell_type": "code",
   "execution_count": 50,
   "id": "1d80417e-d05d-4d33-9c7c-259e6e014d83",
   "metadata": {},
   "outputs": [
    {
     "name": "stdout",
     "output_type": "stream",
     "text": [
      "\n",
      "Shape of grouped dataset: (40289, 12)\n"
     ]
    },
    {
     "data": {
      "text/html": [
       "<div>\n",
       "<style scoped>\n",
       "    .dataframe tbody tr th:only-of-type {\n",
       "        vertical-align: middle;\n",
       "    }\n",
       "\n",
       "    .dataframe tbody tr th {\n",
       "        vertical-align: top;\n",
       "    }\n",
       "\n",
       "    .dataframe thead th {\n",
       "        text-align: right;\n",
       "    }\n",
       "</style>\n",
       "<table border=\"1\" class=\"dataframe\">\n",
       "  <thead>\n",
       "    <tr style=\"text-align: right;\">\n",
       "      <th></th>\n",
       "      <th>product_id</th>\n",
       "      <th>reviews</th>\n",
       "      <th>review_count</th>\n",
       "      <th>avg_rating</th>\n",
       "      <th>sentiment_details</th>\n",
       "      <th>total_helpful_votes</th>\n",
       "      <th>preprocessed_reviews</th>\n",
       "      <th>preprocessed_tokens</th>\n",
       "      <th>comb_preprocessed_reviews</th>\n",
       "      <th>comb_preprocessed_tokens</th>\n",
       "      <th>sentiment</th>\n",
       "      <th>sentiment_encoded</th>\n",
       "    </tr>\n",
       "  </thead>\n",
       "  <tbody>\n",
       "    <tr>\n",
       "      <th>37347</th>\n",
       "      <td>B0024VFCRO</td>\n",
       "      <td>[I think this product makes a delicious all-in...</td>\n",
       "      <td>2</td>\n",
       "      <td>3.000000</td>\n",
       "      <td>{'positive': 1, 'neutral': 0, 'negative': 1}</td>\n",
       "      <td>2</td>\n",
       "      <td>[i think this product makes a delicious all in...</td>\n",
       "      <td>[think product make delicious one meal consist...</td>\n",
       "      <td>i think this product makes a delicious all in ...</td>\n",
       "      <td>think product make delicious one meal consists...</td>\n",
       "      <td>neutral</td>\n",
       "      <td>1</td>\n",
       "    </tr>\n",
       "    <tr>\n",
       "      <th>15514</th>\n",
       "      <td>B000LRH852</td>\n",
       "      <td>[I ordered the Krinos Cracked Green Olives.  I...</td>\n",
       "      <td>3</td>\n",
       "      <td>5.000000</td>\n",
       "      <td>{'positive': 3, 'neutral': 0, 'negative': 0}</td>\n",
       "      <td>2</td>\n",
       "      <td>[i ordered the krinos cracked green olives i e...</td>\n",
       "      <td>[ordered krinos cracked green olive enjoyed lo...</td>\n",
       "      <td>i ordered the krinos cracked green olives i en...</td>\n",
       "      <td>ordered krinos cracked green olive enjoyed lot...</td>\n",
       "      <td>positive</td>\n",
       "      <td>2</td>\n",
       "    </tr>\n",
       "    <tr>\n",
       "      <th>64610</th>\n",
       "      <td>B005E94ZOY</td>\n",
       "      <td>[The raw almond butter is delicious. The packe...</td>\n",
       "      <td>2</td>\n",
       "      <td>3.000000</td>\n",
       "      <td>{'positive': 1, 'neutral': 0, 'negative': 1}</td>\n",
       "      <td>2</td>\n",
       "      <td>[the raw almond butter is delicious the packet...</td>\n",
       "      <td>[raw almond butter delicious packet super conv...</td>\n",
       "      <td>the raw almond butter is delicious the packets...</td>\n",
       "      <td>raw almond butter delicious packet super conve...</td>\n",
       "      <td>neutral</td>\n",
       "      <td>1</td>\n",
       "    </tr>\n",
       "    <tr>\n",
       "      <th>7570</th>\n",
       "      <td>B000CRIFGM</td>\n",
       "      <td>[Here's a wonderful \"secret sauce\" you can kee...</td>\n",
       "      <td>6</td>\n",
       "      <td>4.666667</td>\n",
       "      <td>{'positive': 5, 'neutral': 1, 'negative': 0}</td>\n",
       "      <td>22</td>\n",
       "      <td>[here is a wonderful secret sauce you can keep...</td>\n",
       "      <td>[wonderful secret sauce keep hand perk salad p...</td>\n",
       "      <td>here is a wonderful secret sauce you can keep ...</td>\n",
       "      <td>wonderful secret sauce keep hand perk salad pa...</td>\n",
       "      <td>positive</td>\n",
       "      <td>2</td>\n",
       "    </tr>\n",
       "    <tr>\n",
       "      <th>47357</th>\n",
       "      <td>B003HB8D7Q</td>\n",
       "      <td>[Steer clear of these pine nuts imported from ...</td>\n",
       "      <td>8</td>\n",
       "      <td>4.500000</td>\n",
       "      <td>{'positive': 7, 'neutral': 0, 'negative': 1}</td>\n",
       "      <td>63</td>\n",
       "      <td>[steer clear of these pine nuts imported from ...</td>\n",
       "      <td>[steer clear pine nut imported china implicate...</td>\n",
       "      <td>steer clear of these pine nuts imported from c...</td>\n",
       "      <td>steer clear pine nut imported china implicated...</td>\n",
       "      <td>positive</td>\n",
       "      <td>2</td>\n",
       "    </tr>\n",
       "  </tbody>\n",
       "</table>\n",
       "</div>"
      ],
      "text/plain": [
       "       product_id                                            reviews  \\\n",
       "37347  B0024VFCRO  [I think this product makes a delicious all-in...   \n",
       "15514  B000LRH852  [I ordered the Krinos Cracked Green Olives.  I...   \n",
       "64610  B005E94ZOY  [The raw almond butter is delicious. The packe...   \n",
       "7570   B000CRIFGM  [Here's a wonderful \"secret sauce\" you can kee...   \n",
       "47357  B003HB8D7Q  [Steer clear of these pine nuts imported from ...   \n",
       "\n",
       "       review_count  avg_rating                             sentiment_details  \\\n",
       "37347             2    3.000000  {'positive': 1, 'neutral': 0, 'negative': 1}   \n",
       "15514             3    5.000000  {'positive': 3, 'neutral': 0, 'negative': 0}   \n",
       "64610             2    3.000000  {'positive': 1, 'neutral': 0, 'negative': 1}   \n",
       "7570              6    4.666667  {'positive': 5, 'neutral': 1, 'negative': 0}   \n",
       "47357             8    4.500000  {'positive': 7, 'neutral': 0, 'negative': 1}   \n",
       "\n",
       "       total_helpful_votes                               preprocessed_reviews  \\\n",
       "37347                    2  [i think this product makes a delicious all in...   \n",
       "15514                    2  [i ordered the krinos cracked green olives i e...   \n",
       "64610                    2  [the raw almond butter is delicious the packet...   \n",
       "7570                    22  [here is a wonderful secret sauce you can keep...   \n",
       "47357                   63  [steer clear of these pine nuts imported from ...   \n",
       "\n",
       "                                     preprocessed_tokens  \\\n",
       "37347  [think product make delicious one meal consist...   \n",
       "15514  [ordered krinos cracked green olive enjoyed lo...   \n",
       "64610  [raw almond butter delicious packet super conv...   \n",
       "7570   [wonderful secret sauce keep hand perk salad p...   \n",
       "47357  [steer clear pine nut imported china implicate...   \n",
       "\n",
       "                               comb_preprocessed_reviews  \\\n",
       "37347  i think this product makes a delicious all in ...   \n",
       "15514  i ordered the krinos cracked green olives i en...   \n",
       "64610  the raw almond butter is delicious the packets...   \n",
       "7570   here is a wonderful secret sauce you can keep ...   \n",
       "47357  steer clear of these pine nuts imported from c...   \n",
       "\n",
       "                                comb_preprocessed_tokens sentiment  \\\n",
       "37347  think product make delicious one meal consists...   neutral   \n",
       "15514  ordered krinos cracked green olive enjoyed lot...  positive   \n",
       "64610  raw almond butter delicious packet super conve...   neutral   \n",
       "7570   wonderful secret sauce keep hand perk salad pa...  positive   \n",
       "47357  steer clear pine nut imported china implicated...  positive   \n",
       "\n",
       "       sentiment_encoded  \n",
       "37347                  1  \n",
       "15514                  2  \n",
       "64610                  1  \n",
       "7570                   2  \n",
       "47357                  2  "
      ]
     },
     "execution_count": 50,
     "metadata": {},
     "output_type": "execute_result"
    }
   ],
   "source": [
    "print(\"\\nShape of grouped dataset:\", filtered_reviews.shape)\n",
    "filtered_reviews.sample(5)"
   ]
  },
  {
   "cell_type": "markdown",
   "id": "dc169fad-e531-4120-8e52-514040932436",
   "metadata": {},
   "source": [
    "#### Sentiment Distribution Plot"
   ]
  },
  {
   "cell_type": "code",
   "execution_count": 52,
   "id": "acaaaeed-2338-4373-ae6c-a757f4e96903",
   "metadata": {},
   "outputs": [
    {
     "data": {
      "image/png": "[encoded data removed]",
      "text/plain": [
       "<Figure size 800x500 with 1 Axes>"
      ]
     },
     "metadata": {},
     "output_type": "display_data"
    }
   ],
   "source": [
    "# Create a countplot for sentiment\n",
    "plt.figure(figsize=(8, 5))\n",
    "sns.countplot(x='sentiment', data=filtered_reviews, palette='viridis')\n",
    "plt.title('Distribution of Sentiment Categories')\n",
    "plt.xlabel('Sentiment')\n",
    "plt.ylabel('Count')\n",
    "# plt.savefig('sentiment_distribution.png')\n",
    "plt.show()"
   ]
  },
  {
   "cell_type": "markdown",
   "id": "b8ee263e-f43d-4a67-9ef1-5df2326eb286",
   "metadata": {},
   "source": [
    "##### Observations:\n",
    "- Strong positive bias in the reviews\n",
    "- Positive sentiment dominates (~60-70% of reviews)\n",
    "- Relatively few negative reviews (~<5%)\n",
    "- Neutral reviews form a moderate proportion (~25-35%)\n",
    "- This confirms the class imbalance and suggests the need for appropriate class balancing techniques"
   ]
  },
  {
   "cell_type": "markdown",
   "id": "4ee2bb5a-f86d-4a5a-aac2-67a75c9c3c4e",
   "metadata": {},
   "source": [
    "### 8. Summary:\n",
    "1. **Data Preprocessing Achievements**:\n",
    "   - Successfully loaded and cleaned 568,454 reviews\n",
    "   - Removed 565 duplicates\n",
    "   - Grouped reviews by product (74,258 unique products)\n",
    "   - Preprocessed text data (lowercase, contractions, special characters)\n",
    "   - Implemented tokenization and lemmatization\n",
    "\n",
    "2. **Key Findings**:\n",
    "   - Strong positive bias in ratings (mean: 4.17, median: 4.5)\n",
    "   - Highly skewed review distribution (1-911 reviews per product)\n",
    "   - Class imbalance in sentiment (60-70% positive, 25-35% neutral, <5% negative)\n",
    "   - Average of 46.63 tokens per review\n",
    "\n",
    "3. **Challenges Identified**:\n",
    "   - Significant class imbalance in sentiments\n",
    "   - Varying number of reviews per product\n",
    "   - Strong positive rating bias"
   ]
  },
  {
   "cell_type": "code",
   "execution_count": 55,
   "id": "4ca002ad-cc98-4277-a013-527832168930",
   "metadata": {},
   "outputs": [],
   "source": [
    "# Save the processed dataset\n",
    "filtered_reviews.to_csv('cleaned_reviews.csv', index=False)"
   ]
  }
 ],
 "metadata": {
  "colab": {
   "provenance": []
  },
  "kernelspec": {
   "display_name": "Python 3 (ipykernel)",
   "language": "python",
   "name": "python3"
  },
  "language_info": {
   "codemirror_mode": {
    "name": "ipython",
    "version": 3
   },
   "file_extension": ".py",
   "mimetype": "text/x-python",
   "name": "python",
   "nbconvert_exporter": "python",
   "pygments_lexer": "ipython3",
   "version": "3.11.7"
  }
 },
 "nbformat": 4,
 "nbformat_minor": 5
}
